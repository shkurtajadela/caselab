{
 "cells": [
  {
   "cell_type": "code",
   "execution_count": 7,
   "metadata": {},
   "outputs": [
    {
     "name": "stdout",
     "output_type": "stream",
     "text": [
      "Best parameters for Logistic Regression: {'C': 1, 'class_weight': 'balanced', 'max_iter': 100, 'penalty': 'l2', 'solver': 'liblinear'}\n",
      "Accuracy with Logistic Regression: 0.88128\n"
     ]
    }
   ],
   "source": [
    "from sklearn.feature_extraction.text import TfidfVectorizer\n",
    "from sklearn.linear_model import LogisticRegression\n",
    "from sklearn.svm import SVC\n",
    "from xgboost import XGBClassifier\n",
    "from sklearn.model_selection import GridSearchCV, train_test_split, cross_val_score\n",
    "from sklearn.metrics import accuracy_score\n",
    "import os\n",
    "\n",
    "# Шаг 1. Загрузка данных\n",
    "def load_data(directory):\n",
    "    reviews = []\n",
    "    labels = []\n",
    "    for label in ['pos', 'neg']:\n",
    "        folder = os.path.join(directory, label)\n",
    "        for file in os.listdir(folder):\n",
    "            with open(os.path.join(folder, file), 'r', encoding='utf-8') as f:\n",
    "                reviews.append(f.read())\n",
    "                labels.append(1 if label == 'pos' else 0)\n",
    "    return reviews, labels\n",
    "\n",
    "train_dir = 'train'\n",
    "test_dir = 'test'\n",
    "\n",
    "train_reviews, train_labels = load_data(train_dir)\n",
    "test_reviews, test_labels = load_data(test_dir)\n",
    "\n",
    "# Шаг 2. Векторизация текста\n",
    "vectorizer = TfidfVectorizer(stop_words='english', max_features=10000, ngram_range=(1, 3), min_df=5, max_df=0.7)\n",
    "X_train = vectorizer.fit_transform(train_reviews)\n",
    "X_test = vectorizer.transform(test_reviews)\n",
    "\n",
    "# Шаг 3. Логистическая регрессия с GridSearchCV\n",
    "param_grid_logreg = {\n",
    "    'C': [0.1, 1, 10],\n",
    "    'max_iter': [100, 200],\n",
    "    'penalty': ['l2'],\n",
    "    'solver': ['liblinear'],\n",
    "    'class_weight': ['balanced']\n",
    "}\n",
    "\n",
    "logreg = LogisticRegression()\n",
    "grid_search_logreg = GridSearchCV(logreg, param_grid_logreg, cv=5, scoring='accuracy', n_jobs=-1)\n",
    "grid_search_logreg.fit(X_train, train_labels)\n",
    "\n",
    "best_logreg_model = grid_search_logreg.best_estimator_\n",
    "logreg_predictions = best_logreg_model.predict(X_test)\n",
    "\n",
    "print(f'Best parameters for Logistic Regression: {grid_search_logreg.best_params_}')\n",
    "print(f'Accuracy with Logistic Regression: {accuracy_score(test_labels, logreg_predictions)}')\n"
   ]
  },
  {
   "cell_type": "code",
   "execution_count": 9,
   "metadata": {},
   "outputs": [
    {
     "data": {
      "text/plain": [
       "['vectorizer.pkl']"
      ]
     },
     "execution_count": 9,
     "metadata": {},
     "output_type": "execute_result"
    }
   ],
   "source": [
    "import joblib\n",
    "\n",
    "# Сохранение модели\n",
    "joblib.dump(best_logreg_model, 'model.pkl')\n",
    "\n",
    "# Сохранение векторизатора\n",
    "joblib.dump(vectorizer, 'vectorizer.pkl')"
   ]
  }
 ],
 "metadata": {
  "kernelspec": {
   "display_name": "Python 3",
   "language": "python",
   "name": "python3"
  },
  "language_info": {
   "codemirror_mode": {
    "name": "ipython",
    "version": 3
   },
   "file_extension": ".py",
   "mimetype": "text/x-python",
   "name": "python",
   "nbconvert_exporter": "python",
   "pygments_lexer": "ipython3",
   "version": "3.9.6"
  }
 },
 "nbformat": 4,
 "nbformat_minor": 2
}
